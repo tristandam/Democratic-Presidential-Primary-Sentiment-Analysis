{
 "cells": [
  {
   "cell_type": "markdown",
   "metadata": {},
   "source": [
    "# Here's a brief summary of this project:\n",
    "\n",
    "Because no public polling data for the U.S Presidential Primary is available for the Democratic presidential primary, I will determine an ad-hoc ranking of the primary candidates by analyzing online threads of each candidate's announcement. In particular, we will examine the campaign announcement threads of these major candidates from reddit.com's politics board:\n",
    "\n",
    "Bernie Sanders\n",
    "\n",
    "Beto O'Rourke\n",
    "\n",
    "Elizabeth Warren\n",
    "\n",
    "Amy Klobuchar\n",
    "\n",
    "Kamala Harris\n",
    "\n",
    "Tulsi Gabbard"
   ]
  },
  {
   "cell_type": "code",
   "execution_count": 23,
   "metadata": {},
   "outputs": [],
   "source": [
    "import praw\n",
    "import pandas as pd\n",
    "import datetime as dt"
   ]
  },
  {
   "cell_type": "markdown",
   "metadata": {},
   "source": [
    "Our data will be sourced from reddit.com. Rather than manually extracting the data from each thread, we can utilize PRAW, a python package that allows for simple access to reddit's API. We first need to create our base reddit object which will allow us to perform actions such as access reddit threads."
   ]
  },
  {
   "cell_type": "code",
   "execution_count": 24,
   "metadata": {},
   "outputs": [],
   "source": [
    "reddit = praw.Reddit(client_id='0wrd7Nph4gx89w', \\\n",
    "                     client_secret='YTvXToEC1bySHb5-te3sE6qDMPo', \\\n",
    "                     user_agent='Democratic Primary', \\\n",
    "                     username='democratic_primary', \\\n",
    "                     password='democratic_primary')"
   ]
  },
  {
   "cell_type": "markdown",
   "metadata": {},
   "source": [
    "Now, we will retrieve user comments from the threads announcing the respective candidate's announcement for the 2020 Democratic Nomination. In total, the retrievals below in total collect 69,153 comments in total."
   ]
  },
  {
   "cell_type": "code",
   "execution_count": 25,
   "metadata": {},
   "outputs": [],
   "source": [
    "harris = reddit.submission(url='https://www.reddit.com/r/democrats/comments/ai9xph/senator_kamala_harris_announces_her_bid_for/')\n",
    "\n",
    "gillibrand = reddit.submission(url='https://www.reddit.com/r/politics/comments/ageplz/kirsten_gillibrand_new_york_senator_joins/')\n",
    "\n",
    "gabbard = reddit.submission(url='https://www.reddit.com/r/politics/comments/af1eut/tulsi_gabbard_says_she_will_run_for_president_in/')\n",
    "\n",
    "klobuchar = reddit.submission(url='https://www.reddit.com/r/politics/comments/ap82a0/democratic_sen_amy_klobuchar_announces_run_for/')\n",
    "\n",
    "sanders = reddit.submission(url='https://www.reddit.com/r/politics/comments/asac31/megathread_bernie_sanders_announces_2020/')\n",
    "\n",
    "beto = reddit.submission(url='https://www.reddit.com/r/politics/comments/b0tyom/former_texas_congressman_beto_orourke_announces/')\n",
    "\n",
    "warren = reddit.submission(url='https://www.reddit.com/r/politics/comments/ab76aj/elizabeth_warren_announces_she_is_running_for/')\n",
    "\n"
   ]
  },
  {
   "cell_type": "code",
   "execution_count": 29,
   "metadata": {},
   "outputs": [
    {
     "name": "stdout",
     "output_type": "stream",
     "text": [
      "I'm very excited! Her announcement email to those on her mailing list was great. Some snippits:\n",
      "\n",
      ">**We’re not taking a dime from corporate PACs**, so your donation will make huge a difference for me and my team\n",
      "\n",
      ">Together, we will fight FOR a country with **strong public schools** in every zip code. A country where **one job is enough to pay the bills**. A country with **full, universal health care for every single American.**\n",
      "\n",
      ">Together, we will fight FOR a country where getting a **college** education doesn’t mean taking on a lifetime of debt. Where middle-class and working families are prioritized with **tax breaks, not corporations** or the wealthiest 1%. Where every single person can retire with dignity. Where every single person can breathe **clean air** and drink **clean water.** Where **Black women aren’t three to four times more likely to die in childbirth** than white women. A country where **for-profit prison businesses -- a billion-dollar industry -- are a thing of the past.** We’re going to fight FOR an America where all our **civil rights** are respected.\n",
      "\n",
      "\n",
      "We need to seriously consider rock, paper, scissors politics before we vote in the Primaries. I can see Warren beating Harris, but not Warren beating Trump. I can see Harris beating Trump. \n",
      "\n",
      "It's early, I know. But that's my initial take. \n",
      "It would send such a shockwave around the world if Trump gets taken out by a black woman who is also a prosecutor... \n",
      "\n",
      "Mmmm that just makes my mouth water.\n",
      "I don’t like that she had [a win-at-all-costs approach to prosecution](https://www.nytimes.com/2019/01/17/opinion/kamala-harris-criminal-justice.html) and pursued harsh sentences for non-violent drug crimes. Why don’t former public defenders run for office?\n",
      "I’m waiting until next year to care\n",
      "Democrats are going to have so many awesome primary choices for 2020.\n",
      "\n",
      "It's like the opposite of the Republicans' 2016 primary, where they had so many shitty choices and somehow ended up with the shittiest of them all.\n",
      "\n",
      "\n",
      "She prob has my vote, she's a respected lawmaker, cant get pushed around by the gop on being weak on crime, and isnt in her 70's. Pair her with a VP who fires up the left side of the base and she's unstoppable!\n",
      "I’m inclined to vote for her, then again she’s from my state so maybe I’m biased. \n",
      "Here’s a factor that a lot of people aren’t talking about: as a woman of color, it’ll be harder for Trump to attack her without coming off as racist\n",
      "Part of me really likes all the options we are going to have in the primary next year. Most of me realizes this is going to be a shit show where the good candidates split a bunch of votes and someone shitty gets through like trump did in 16. \n",
      "Just an instinct at this point, and I’m happy to change my mind, but I don’t think either Harris or Warren are great national candidates. I’m curious what kind of speech Klobuchar gives and how Sherrod Brown will play in front of the camera. \n",
      "I'm sure Steve Mnuchin will be delighted.\n",
      "\n",
      "\n",
      "\n",
      "\n",
      "I can't believe people on here are praising her, she is a fake progressive. Look up her voting record and prosecution record/stance. \n",
      "I would love to see her as the next President. I think she'd pair well with Klobuchar or O'Rourke.\n",
      "I’m concerned about yet another candidate without foreign policy experience. Her resume doesn’t appear to have any, maybe I’m wrong? \n",
      "Fantastic. Harris is a true fighter; has hardcore prosecutor experience and won't fall for stupid tricks like blotus' \"poke and haunt us\". She's woke and fierce. I'm 72 and have seen a lot of rodeos; she's ready.\n",
      "This is a terrible idea for Democrats. \n",
      "\n",
      "She also let Mnuchin and other mortgage bandits  who got rich illegally evicting Californian’s via robo-signing off scot-free. \n",
      "That’d be an L. And I don’t even care for the turd that is trump. Just seems more like the fluff candidate, in that she’ll be one of the missile magnets for the “real candidate” and will get set up with a sweet AG job if dems should win. \n",
      "Gaaaaaaaaaaaaaaah Why Kamala? Now it's you, beto, elizabeth warren, bernie sanders, joe biden...... gaaaaaaaaaah I love you all! <3 this is like craaaaazy I want you all as president, but there can only be one :( \n",
      "Any supporters got a bullet point list of her policy positions?\n",
      "\n",
      "Will she cut the bloated military budget?\n",
      "\n",
      "Is she for medicare for all?\n",
      "\n",
      "Will she make the wealthiest pay their fair share in taxes?\n",
      "\n",
      "Is she for colleg3 for all?\n",
      "\n",
      "Etc.\n",
      "\n",
      "Thanks!\n",
      "Interesting. I went through her Wikipedia page and checked out her political stances. Honestly she seems pretty well what I’ve wanted for awhile now. Obviously things change and I may not like her later on, but I would support her as of now. \n",
      "I guess someone has to keep our attention before the real candidates finally enter he race.\n",
      "I'm about as moderate as it gets, so I'm glad to see differing ideologies choosing to run on the Democratic side. I'm not too well versed on her policy, but it seems criminal justice reform is her passion. I honestly think that's great, because I think its something both Dems and Repubs see as a issue that needs to be addressed. I hope, if elected, that is her first issue to tackle so it gets both sides talking again. Interested to see how she navigates this race, which will likely demand she goes farther left than maybe she is comfortable with. \n",
      "Can we please just not have the same 15-people-on-the-stage circus that the republicans had? We need to run the most middle of the road wide-appeal person we can. People like Harris and Sanders are far more important in Congress than they are in the white house. A democratic president will sign anything a democratic congress sends to them. What we need is to get these progressive candidates to stay in Congress where they can do more good.\n",
      "no we want Kanye\n",
      "After watching her question Brett Kavanaugh and keep her cool, I am so impressed with her. She has my vote!\n",
      "Get it, Kamala! Between her and Warren my top two choices are now in the race. Start your engines - and may the best woman win!\n",
      "She certainly has the pedigree to beat Trump. Her track record as a DA kind of upsets me though, maximum penalties for non-violent drug crimes, maximum penalties for sex workers. She's definitely a \"win at all costs\" kind of person, which is a good thing most of the time. I don't think she's the best candidate to beat Trump, although I still think she would.\n",
      "I’m a left of center independent. Would definitely vote for her over any other Democrat and Trump. I think she has to be the favorite for those that have declared so far.\n",
      "Damnit no.\n",
      "\n",
      "Any Democrats announcing bids this early as basically sacrificial lambs, candidates for the media to latch onto and destroy.\n",
      "\n",
      "I was hoping for Harris to *actually* run/become president in 2020. :(\n",
      "Oh Jesus Christ lets hope not. \n",
      "If the economy stays on track through 2020, I feel that Kamala Harris is the only Dem candidate who can beat Trump.  She will appeal to both moderate and left leaning Dems based on her policies and can cross over to moderately right-leaning voters based on her “tough on crime” background.  She is the only candidate right now who has the presence to go toe to toe with Trump in debates and we’ll need someone who can inspire the country with a positive vision for the future.\n",
      "\n",
      "The radical progressive wing of the party will not support her but honestly, that’s a very small but annoyingly vocal portion of the voting public.  However, if the economy tanks between now and 2020, all bets are off.\n",
      "*shocked pikachu face*\n",
      "So the big contenders are Harris, Warren, and then there's Beto, Booker, Biden and Bernie who may run but haven't said if they will. Castro and Gillibrand might pick up with some spotlight, but while I can see Castro getting recognition I don't see Gillibrand pulling up much. \n",
      "The only one who can beat him. \n",
      "is she a immigrant?\n",
      "just a question nothing more\n",
      "Not sure she is my top choice, but if she gets the nod i'll vote for her. I like Warren better \n",
      "Commenting to read later on\n",
      "\n",
      "\n",
      "Where’s Bernie?\n",
      "I’ll vote for her is she wins the nomination but she’s far from an ideal candidate and I don’t think she’d beat Trump in a general election.\n",
      "\n",
      "I feel a Biden/Klobuchar ticket is our best option.\n",
      "I still believe we owe it to Bernie Sanders.\n",
      "I need to do more research to decide who I'd want to vote for, but I just have to say...\n",
      "Getting to watch Trump lose the presidency to a woman of color would make me so happy.\n",
      "[removed]\n",
      "[removed]\n",
      "I'd love to see Eric Swalwell as her VP.\n",
      "One nation under a groove? \n",
      "[deleted]\n",
      "One of the worst candidates of the dems. Doesn’t support withdrawal from Afghanistan/Syria, doesn’t support police wearing body cameras.\n",
      "Would make a better Senator or SCOTUS justice. Can't see her as the President we need.\n",
      "Good luck to her.  I like her.  I like Elizabeth Warren.  I don't know much about Castro.  Big field.\n",
      "[removed]\n",
      "[removed]\n",
      "Northwest Indiana Democrat here. I think she is a solid choice! \n",
      "Meh.\n",
      "Hi there, Kamala Harris supports long sentences for nonviolent possession cases.\n",
      "\n",
      "Thx for coming to my ted talk. \n",
      "As I don’t have time to research all 20 of the people who are going to announce in the next month or so can someone give me the basics of what I need to know about her. \n"
     ]
    },
    {
     "ename": "AttributeError",
     "evalue": "'MoreComments' object has no attribute 'body'",
     "output_type": "error",
     "traceback": [
      "\u001b[0;31m---------------------------------------------------------------------------\u001b[0m",
      "\u001b[0;31mAttributeError\u001b[0m                            Traceback (most recent call last)",
      "\u001b[0;32m<ipython-input-29-9e404cae6b9c>\u001b[0m in \u001b[0;36m<module>\u001b[0;34m\u001b[0m\n\u001b[1;32m      1\u001b[0m \u001b[0;32mfor\u001b[0m \u001b[0mcomment\u001b[0m \u001b[0;32min\u001b[0m \u001b[0mharris\u001b[0m\u001b[0;34m.\u001b[0m\u001b[0mcomments\u001b[0m\u001b[0;34m:\u001b[0m\u001b[0;34m\u001b[0m\u001b[0;34m\u001b[0m\u001b[0m\n\u001b[0;32m----> 2\u001b[0;31m     \u001b[0mprint\u001b[0m\u001b[0;34m(\u001b[0m\u001b[0mcomment\u001b[0m\u001b[0;34m.\u001b[0m\u001b[0mbody\u001b[0m\u001b[0;34m)\u001b[0m\u001b[0;34m\u001b[0m\u001b[0;34m\u001b[0m\u001b[0m\n\u001b[0m",
      "\u001b[0;31mAttributeError\u001b[0m: 'MoreComments' object has no attribute 'body'"
     ]
    }
   ],
   "source": [
    "for comment in harris.comments:\n",
    "    print(comment.body)"
   ]
  },
  {
   "cell_type": "code",
   "execution_count": null,
   "metadata": {},
   "outputs": [],
   "source": []
  },
  {
   "cell_type": "code",
   "execution_count": null,
   "metadata": {},
   "outputs": [],
   "source": []
  }
 ],
 "metadata": {
  "kernelspec": {
   "display_name": "Python 3",
   "language": "python",
   "name": "python3"
  },
  "language_info": {
   "codemirror_mode": {
    "name": "ipython",
    "version": 3
   },
   "file_extension": ".py",
   "mimetype": "text/x-python",
   "name": "python",
   "nbconvert_exporter": "python",
   "pygments_lexer": "ipython3",
   "version": "3.7.1"
  }
 },
 "nbformat": 4,
 "nbformat_minor": 2
}
